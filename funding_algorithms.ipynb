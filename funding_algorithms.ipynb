{
 "cells": [
  {
   "cell_type": "code",
   "execution_count": null,
   "id": "84bb8589",
   "metadata": {},
   "outputs": [],
   "source": [
    "import pandas as pd"
   ]
  },
  {
   "cell_type": "code",
   "execution_count": null,
   "id": "ff32db73",
   "metadata": {},
   "outputs": [],
   "source": [
    "neighborhoods = {\n",
    "    \"Elm Heights\": {\"complaints\": 340, \"population\": 2200, \"road_age\": 15, \"utility_age\": 18, \"lighting_age\": 10, \"median_income\": 72000, \"renter_pct\": 0.30, \"historical_funding\": 4_800_000},\n",
    "    \"Northbrook Estates\": {\"complaints\": 410, \"population\": 2700, \"road_age\": 35, \"utility_age\": 40, \"lighting_age\": 25,  \"median_income\": 90000, \"renter_pct\": 0.25, \"historical_funding\": 5_000_000},\n",
    "    \"West Gate\": {\"complaints\": 290, \"population\": 1800, \"road_age\": 25, \"utility_age\": 30, \"lighting_age\": 20, \"median_income\": 38000, \"renter_pct\": 0.75, \"historical_funding\": 2_000_000},\n",
    "    \"Mapleview\": {\"complaints\": 120, \"population\": 1500, \"road_age\": 10, \"utility_age\": 12, \"lighting_age\": 8, \"median_income\": 46000, \"renter_pct\": 0.55, \"historical_funding\": 3_200_000},\n",
    "    \"Southside Commons\": {\"complaints\": 80, \"population\": 1300, \"road_age\": 40, \"utility_age\": 50, \"lighting_age\": 30,  \"median_income\": 34000, \"renter_pct\": 0.80, \"historical_funding\": 1_600_000},\n",
    "}"
   ]
  },
  {
   "cell_type": "code",
   "execution_count": null,
   "id": "91ae2914",
   "metadata": {},
   "outputs": [],
   "source": [
    "df = pd.read_csv('neighborhoods.csv')\n",
    "df"
   ]
  },
  {
   "cell_type": "code",
   "execution_count": null,
   "id": "b59c0783",
   "metadata": {},
   "outputs": [],
   "source": [
    "def model1(data, total_funding=1_000_000):\n",
    "    ## this is how each neighborhood is scored\n",
    "    ## hint this is a good place to look for how the algorithm works\n",
    "    scores = {\n",
    "        n: (info[\"complaints\"] / info[\"population\"]) * 1000\n",
    "        for n, info in data.items()\n",
    "    }\n",
    "    ## sum up score per neighborhood\n",
    "    total_score = sum(scores.values())\n",
    "\n",
    "    ## assign money to each community based on the score \n",
    "    allocations = {\n",
    "        n: round((score / total_score) * total_funding, 2)\n",
    "        for n, score in scores.items()\n",
    "    }\n",
    "\n",
    "    ## return the funding structure \n",
    "    return sorted(allocations.items(), key=lambda x: x[1], reverse=True)\n",
    "\n",
    "def model2(data, total_funding=1_000_000):\n",
    "    ## this is how each neighborhood is scored \n",
    "    weights = {\"road_age\": 0.5, \"utility_age\": 0.3, \"lighting_age\": 0.2}\n",
    "    scores = {}\n",
    "    for n, ages in data.items():\n",
    "        score = sum(ages[part] * weight for part, weight in weights.items())\n",
    "        scores[n] = score\n",
    "\n",
    "    ## sum up the scores and assign an allocation \n",
    "    total_score = sum(scores.values())\n",
    "    allocations = {\n",
    "        n: round((score / total_score) * total_funding, 2)\n",
    "        for n, score in scores.items()\n",
    "    }\n",
    "\n",
    "    ## return funding strucuture \n",
    "    return sorted(allocations.items(), key=lambda x: x[1], reverse=True)\n",
    "\n",
    "def model3(data, total_funding=1_000_000):\n",
    "    ## this is how a neighborhood is scored \n",
    "    scores = {}\n",
    "    for n, info in data.items():\n",
    "        income_score = max(100_000 - info[\"median_income\"], 0)\n",
    "        renter_score = info[\"renter_pct\"] * 100\n",
    "        funding_penalty = max(6_000_000 - info[\"historical_funding\"], 0) / 1000\n",
    "        equity_score = income_score + renter_score + funding_penalty\n",
    "        scores[n] = equity_score\n",
    "\n",
    "    ## sum up the scores and assign an allocation \n",
    "    total_score = sum(scores.values())\n",
    "    allocations = {\n",
    "        n: round((score / total_score) * total_funding, 2)\n",
    "        for n, score in scores.items()\n",
    "    }\n",
    "    ## return funding structure \n",
    "    return sorted(allocations.items(), key=lambda x: x[1], reverse=True)"
   ]
  },
  {
   "cell_type": "code",
   "execution_count": null,
   "id": "932c7300",
   "metadata": {},
   "outputs": [],
   "source": [
    "print(\"Model 1:\")\n",
    "for neighborhood, amount in model1(neighborhoods):\n",
    "    print(f\"{neighborhood}: ${amount:,}\")"
   ]
  },
  {
   "cell_type": "code",
   "execution_count": null,
   "id": "a3b60257",
   "metadata": {},
   "outputs": [],
   "source": [
    "print(\"Model 2:\")\n",
    "for neighborhood, amount in model2(neighborhoods):\n",
    "    print(f\"{neighborhood}: ${amount:,}\")"
   ]
  },
  {
   "cell_type": "code",
   "execution_count": null,
   "id": "b405d1dd",
   "metadata": {},
   "outputs": [],
   "source": [
    "print(\"Model 3:\")\n",
    "for neighborhood, amount in model3(neighborhoods):\n",
    "    print(f\"{neighborhood}: ${amount:,}\")"
   ]
  },
  {
   "cell_type": "code",
   "execution_count": null,
   "id": "fb03e854",
   "metadata": {},
   "outputs": [],
   "source": []
  }
 ],
 "metadata": {
  "kernelspec": {
   "display_name": "base",
   "language": "python",
   "name": "python3"
  },
  "language_info": {
   "codemirror_mode": {
    "name": "ipython",
    "version": 3
   },
   "file_extension": ".py",
   "mimetype": "text/x-python",
   "name": "python",
   "nbconvert_exporter": "python",
   "pygments_lexer": "ipython3",
   "version": "3.12.3"
  }
 },
 "nbformat": 4,
 "nbformat_minor": 5
}
